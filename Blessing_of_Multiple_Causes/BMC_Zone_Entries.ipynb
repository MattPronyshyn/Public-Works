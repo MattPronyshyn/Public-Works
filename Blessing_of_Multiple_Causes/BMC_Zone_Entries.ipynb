{
 "cells": [
  {
   "cell_type": "code",
   "execution_count": null,
   "metadata": {},
   "outputs": [
    {
     "name": "stderr",
     "output_type": "stream",
     "text": [
      "WARNING (pytensor.tensor.blas): Using NumPy C-API based implementation for BLAS functions.\n"
     ]
    }
   ],
   "source": [
    "import numpy as np\n",
    "import pandas as pd\n",
    "import arviz as az\n",
    "import scipy.stats as stats\n",
    "import pymc as pm\n",
    "import matplotlib.pyplot as plt\n",
    "import helper_functions as hf\n",
    "#"
   ]
  },
  {
   "cell_type": "markdown",
   "metadata": {},
   "source": [
    "### Quantitavely Assessing The Impact of Invididual Players in Hockey Offensive Zone Entries"
   ]
  },
  {
   "cell_type": "markdown",
   "metadata": {},
   "source": [
    "# Data cleaning\n",
    "Making two datasets, one for only the offensive team's players and one for the defendings team's players"
   ]
  },
  {
   "cell_type": "code",
   "execution_count": null,
   "metadata": {},
   "outputs": [],
   "source": [
    "data = pd.read_csv('Data/zone_entries_with_players.csv')\n",
    "zone_entries_df = data.iloc[:, [9] + list(range(31, 82))]\n",
    "shifts_df = pd.read_csv('Data/BDC_2024_Womens_Shifts.csv')\n",
    "\n",
    "# Remove the goalies from the shifts data\n",
    "players_to_remove = ['Aerin Frankel', 'Emerance Maschmeyer', 'Kristen Campbell', 'Nicole Hensley', 'Ann-Renee Desbiens']\n",
    "shifts_df = shifts_df[~shifts_df['player_name'].isin(players_to_remove)]\n",
    "\n",
    "# Get the player names and team names\n",
    "player_teams_df = shifts_df[['team_name', 'player_name']].drop_duplicates().reset_index(drop=True)"
   ]
  }
 ],
 "metadata": {
  "kernelspec": {
   "display_name": "base",
   "language": "python",
   "name": "python3"
  },
  "language_info": {
   "codemirror_mode": {
    "name": "ipython",
    "version": 3
   },
   "file_extension": ".py",
   "mimetype": "text/x-python",
   "name": "python",
   "nbconvert_exporter": "python",
   "pygments_lexer": "ipython3",
   "version": "3.9.16"
  }
 },
 "nbformat": 4,
 "nbformat_minor": 2
}
