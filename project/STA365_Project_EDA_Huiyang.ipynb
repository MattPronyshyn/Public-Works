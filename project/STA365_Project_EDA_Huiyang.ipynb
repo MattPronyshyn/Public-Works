{
  "nbformat": 4,
  "nbformat_minor": 0,
  "metadata": {
    "colab": {
      "provenance": []
    },
    "kernelspec": {
      "name": "python3",
      "display_name": "Python 3"
    },
    "language_info": {
      "name": "python"
    }
  },
  "cells": [
    {
      "cell_type": "code",
      "execution_count": 1,
      "metadata": {
        "id": "oEisHfGkrM1I"
      },
      "outputs": [],
      "source": [
        "import requests\n",
        "import json\n",
        "import numpy as np\n",
        "import pandas as pd\n",
        "import pymc as pm\n",
        "import matplotlib.pyplot as plt\n",
        "#pip install pymer4\n",
        "#!pip install rpy2\n",
        "from pymer4.models import Lmer"
      ]
    },
    {
      "cell_type": "code",
      "source": [
        "# Install package for frequentist models\n",
        "import rpy2.robjects as robjects\n",
        "\n",
        "# R's install.packages function is used to install lme4\n",
        "#robjects.r('install.packages(\"lme4\", repos=\"http://cran.r-project.org\")')"
      ],
      "metadata": {
        "id": "EKnyYLf5DhJk"
      },
      "execution_count": 2,
      "outputs": []
    },
    {
      "cell_type": "code",
      "source": [
        "# Set directory to Google Drive to get dataset\n",
        "from google.colab import drive\n",
        "drive.mount('/content/drive')\n",
        "import os\n",
        "os.chdir('/content/drive/MyDrive/Colab Notebooks/STA365')"
      ],
      "metadata": {
        "colab": {
          "base_uri": "https://localhost:8080/"
        },
        "id": "nlldFLF9rYWA",
        "outputId": "d3bb5039-00d3-4dfe-cf60-1d20725d3ca9"
      },
      "execution_count": 3,
      "outputs": [
        {
          "output_type": "stream",
          "name": "stdout",
          "text": [
            "Drive already mounted at /content/drive; to attempt to forcibly remount, call drive.mount(\"/content/drive\", force_remount=True).\n"
          ]
        }
      ]
    },
    {
      "cell_type": "code",
      "source": [
        "# Read data\n",
        "df = pd.read_csv('zone_entries.csv')\n",
        "# Remove the 4th period - not to our interest\n",
        "df = df[df[\"Period\"] != 4]"
      ],
      "metadata": {
        "id": "V9atIULTsVRP"
      },
      "execution_count": 4,
      "outputs": []
    },
    {
      "cell_type": "markdown",
      "source": [
        "# EDA"
      ],
      "metadata": {
        "id": "CJkvgZf2tUox"
      }
    },
    {
      "cell_type": "code",
      "source": [
        "# Set display options to show all columns\n",
        "pd.set_option('display.max_columns', None)\n",
        "# Show first 5 columns\n",
        "df.head(5)"
      ],
      "metadata": {
        "colab": {
          "base_uri": "https://localhost:8080/",
          "height": 521
        },
        "id": "47rXXih-tWwQ",
        "outputId": "9cba982a-4968-4f10-c0e9-55738e0398df"
      },
      "execution_count": 5,
      "outputs": [
        {
          "output_type": "execute_result",
          "data": {
            "text/plain": [
              "         Date              Home Team       Away Team  Period  Clock  \\\n",
              "0  2023-11-08  Women - United States  Women - Canada       1  19:36   \n",
              "1  2023-11-08  Women - United States  Women - Canada       1  19:23   \n",
              "2  2023-11-08  Women - United States  Women - Canada       1  19:18   \n",
              "3  2023-11-08  Women - United States  Women - Canada       1  18:56   \n",
              "4  2023-11-08  Women - United States  Women - Canada       1  18:48   \n",
              "\n",
              "   Home Team Skaters  Away Team Skaters  Home Team Goals  Away Team Goals  \\\n",
              "0                  5                  5                0                0   \n",
              "1                  5                  5                0                0   \n",
              "2                  5                  5                0                0   \n",
              "3                  5                  5                0                0   \n",
              "4                  5                  5                0                0   \n",
              "\n",
              "                    Team           Player       Event  X Coordinate  \\\n",
              "0         Women - Canada  Blayre Turnbull  Zone Entry           125   \n",
              "1  Women - United States    Hilary Knight  Zone Entry           125   \n",
              "2         Women - Canada    Sarah Fillier  Zone Entry           125   \n",
              "3  Women - United States     Hannah Bilka  Zone Entry           126   \n",
              "4         Women - Canada   Brianne Jenner  Zone Entry           125   \n",
              "\n",
              "   Y Coordinate Detail 1  Detail 2  Detail 3  Detail 4         Player 2  \\\n",
              "0             6  Carried       NaN       NaN       NaN       Haley Winn   \n",
              "1            52   Dumped       NaN       NaN       NaN     Erin Ambrose   \n",
              "2            80  Carried       NaN       NaN       NaN     Rory Guilday   \n",
              "3            84   Played       NaN       NaN       NaN      Ashton Bell   \n",
              "4            63  Carried       NaN       NaN       NaN  Savannah Harmon   \n",
              "\n",
              "   X Coordinate 2  Y Coordinate 2  isin_ozone_for_home_team  \\\n",
              "0             NaN             NaN                     False   \n",
              "1             NaN             NaN                      True   \n",
              "2             NaN             NaN                     False   \n",
              "3             NaN             NaN                      True   \n",
              "4             NaN             NaN                     False   \n",
              "\n",
              "   isin_ozone_for_away_team  zone_entry_success Position  is_forward  \\\n",
              "0                      True               False        F        True   \n",
              "1                     False               False        F        True   \n",
              "2                      True               False        F        True   \n",
              "3                     False               False        F        True   \n",
              "4                      True               False        F        True   \n",
              "\n",
              "  Entry_Type        Game  Dumped  Played  \n",
              "0    Carried  2023-11-08       0       0  \n",
              "1     Dumped  2023-11-08       1       0  \n",
              "2    Carried  2023-11-08       0       0  \n",
              "3     Played  2023-11-08       0       1  \n",
              "4    Carried  2023-11-08       0       0  "
            ],
            "text/html": [
              "\n",
              "  <div id=\"df-6ddd0287-a094-4c2f-b05b-b70be52daaad\" class=\"colab-df-container\">\n",
              "    <div>\n",
              "<style scoped>\n",
              "    .dataframe tbody tr th:only-of-type {\n",
              "        vertical-align: middle;\n",
              "    }\n",
              "\n",
              "    .dataframe tbody tr th {\n",
              "        vertical-align: top;\n",
              "    }\n",
              "\n",
              "    .dataframe thead th {\n",
              "        text-align: right;\n",
              "    }\n",
              "</style>\n",
              "<table border=\"1\" class=\"dataframe\">\n",
              "  <thead>\n",
              "    <tr style=\"text-align: right;\">\n",
              "      <th></th>\n",
              "      <th>Date</th>\n",
              "      <th>Home Team</th>\n",
              "      <th>Away Team</th>\n",
              "      <th>Period</th>\n",
              "      <th>Clock</th>\n",
              "      <th>Home Team Skaters</th>\n",
              "      <th>Away Team Skaters</th>\n",
              "      <th>Home Team Goals</th>\n",
              "      <th>Away Team Goals</th>\n",
              "      <th>Team</th>\n",
              "      <th>Player</th>\n",
              "      <th>Event</th>\n",
              "      <th>X Coordinate</th>\n",
              "      <th>Y Coordinate</th>\n",
              "      <th>Detail 1</th>\n",
              "      <th>Detail 2</th>\n",
              "      <th>Detail 3</th>\n",
              "      <th>Detail 4</th>\n",
              "      <th>Player 2</th>\n",
              "      <th>X Coordinate 2</th>\n",
              "      <th>Y Coordinate 2</th>\n",
              "      <th>isin_ozone_for_home_team</th>\n",
              "      <th>isin_ozone_for_away_team</th>\n",
              "      <th>zone_entry_success</th>\n",
              "      <th>Position</th>\n",
              "      <th>is_forward</th>\n",
              "      <th>Entry_Type</th>\n",
              "      <th>Game</th>\n",
              "      <th>Dumped</th>\n",
              "      <th>Played</th>\n",
              "    </tr>\n",
              "  </thead>\n",
              "  <tbody>\n",
              "    <tr>\n",
              "      <th>0</th>\n",
              "      <td>2023-11-08</td>\n",
              "      <td>Women - United States</td>\n",
              "      <td>Women - Canada</td>\n",
              "      <td>1</td>\n",
              "      <td>19:36</td>\n",
              "      <td>5</td>\n",
              "      <td>5</td>\n",
              "      <td>0</td>\n",
              "      <td>0</td>\n",
              "      <td>Women - Canada</td>\n",
              "      <td>Blayre Turnbull</td>\n",
              "      <td>Zone Entry</td>\n",
              "      <td>125</td>\n",
              "      <td>6</td>\n",
              "      <td>Carried</td>\n",
              "      <td>NaN</td>\n",
              "      <td>NaN</td>\n",
              "      <td>NaN</td>\n",
              "      <td>Haley Winn</td>\n",
              "      <td>NaN</td>\n",
              "      <td>NaN</td>\n",
              "      <td>False</td>\n",
              "      <td>True</td>\n",
              "      <td>False</td>\n",
              "      <td>F</td>\n",
              "      <td>True</td>\n",
              "      <td>Carried</td>\n",
              "      <td>2023-11-08</td>\n",
              "      <td>0</td>\n",
              "      <td>0</td>\n",
              "    </tr>\n",
              "    <tr>\n",
              "      <th>1</th>\n",
              "      <td>2023-11-08</td>\n",
              "      <td>Women - United States</td>\n",
              "      <td>Women - Canada</td>\n",
              "      <td>1</td>\n",
              "      <td>19:23</td>\n",
              "      <td>5</td>\n",
              "      <td>5</td>\n",
              "      <td>0</td>\n",
              "      <td>0</td>\n",
              "      <td>Women - United States</td>\n",
              "      <td>Hilary Knight</td>\n",
              "      <td>Zone Entry</td>\n",
              "      <td>125</td>\n",
              "      <td>52</td>\n",
              "      <td>Dumped</td>\n",
              "      <td>NaN</td>\n",
              "      <td>NaN</td>\n",
              "      <td>NaN</td>\n",
              "      <td>Erin Ambrose</td>\n",
              "      <td>NaN</td>\n",
              "      <td>NaN</td>\n",
              "      <td>True</td>\n",
              "      <td>False</td>\n",
              "      <td>False</td>\n",
              "      <td>F</td>\n",
              "      <td>True</td>\n",
              "      <td>Dumped</td>\n",
              "      <td>2023-11-08</td>\n",
              "      <td>1</td>\n",
              "      <td>0</td>\n",
              "    </tr>\n",
              "    <tr>\n",
              "      <th>2</th>\n",
              "      <td>2023-11-08</td>\n",
              "      <td>Women - United States</td>\n",
              "      <td>Women - Canada</td>\n",
              "      <td>1</td>\n",
              "      <td>19:18</td>\n",
              "      <td>5</td>\n",
              "      <td>5</td>\n",
              "      <td>0</td>\n",
              "      <td>0</td>\n",
              "      <td>Women - Canada</td>\n",
              "      <td>Sarah Fillier</td>\n",
              "      <td>Zone Entry</td>\n",
              "      <td>125</td>\n",
              "      <td>80</td>\n",
              "      <td>Carried</td>\n",
              "      <td>NaN</td>\n",
              "      <td>NaN</td>\n",
              "      <td>NaN</td>\n",
              "      <td>Rory Guilday</td>\n",
              "      <td>NaN</td>\n",
              "      <td>NaN</td>\n",
              "      <td>False</td>\n",
              "      <td>True</td>\n",
              "      <td>False</td>\n",
              "      <td>F</td>\n",
              "      <td>True</td>\n",
              "      <td>Carried</td>\n",
              "      <td>2023-11-08</td>\n",
              "      <td>0</td>\n",
              "      <td>0</td>\n",
              "    </tr>\n",
              "    <tr>\n",
              "      <th>3</th>\n",
              "      <td>2023-11-08</td>\n",
              "      <td>Women - United States</td>\n",
              "      <td>Women - Canada</td>\n",
              "      <td>1</td>\n",
              "      <td>18:56</td>\n",
              "      <td>5</td>\n",
              "      <td>5</td>\n",
              "      <td>0</td>\n",
              "      <td>0</td>\n",
              "      <td>Women - United States</td>\n",
              "      <td>Hannah Bilka</td>\n",
              "      <td>Zone Entry</td>\n",
              "      <td>126</td>\n",
              "      <td>84</td>\n",
              "      <td>Played</td>\n",
              "      <td>NaN</td>\n",
              "      <td>NaN</td>\n",
              "      <td>NaN</td>\n",
              "      <td>Ashton Bell</td>\n",
              "      <td>NaN</td>\n",
              "      <td>NaN</td>\n",
              "      <td>True</td>\n",
              "      <td>False</td>\n",
              "      <td>False</td>\n",
              "      <td>F</td>\n",
              "      <td>True</td>\n",
              "      <td>Played</td>\n",
              "      <td>2023-11-08</td>\n",
              "      <td>0</td>\n",
              "      <td>1</td>\n",
              "    </tr>\n",
              "    <tr>\n",
              "      <th>4</th>\n",
              "      <td>2023-11-08</td>\n",
              "      <td>Women - United States</td>\n",
              "      <td>Women - Canada</td>\n",
              "      <td>1</td>\n",
              "      <td>18:48</td>\n",
              "      <td>5</td>\n",
              "      <td>5</td>\n",
              "      <td>0</td>\n",
              "      <td>0</td>\n",
              "      <td>Women - Canada</td>\n",
              "      <td>Brianne Jenner</td>\n",
              "      <td>Zone Entry</td>\n",
              "      <td>125</td>\n",
              "      <td>63</td>\n",
              "      <td>Carried</td>\n",
              "      <td>NaN</td>\n",
              "      <td>NaN</td>\n",
              "      <td>NaN</td>\n",
              "      <td>Savannah Harmon</td>\n",
              "      <td>NaN</td>\n",
              "      <td>NaN</td>\n",
              "      <td>False</td>\n",
              "      <td>True</td>\n",
              "      <td>False</td>\n",
              "      <td>F</td>\n",
              "      <td>True</td>\n",
              "      <td>Carried</td>\n",
              "      <td>2023-11-08</td>\n",
              "      <td>0</td>\n",
              "      <td>0</td>\n",
              "    </tr>\n",
              "  </tbody>\n",
              "</table>\n",
              "</div>\n",
              "    <div class=\"colab-df-buttons\">\n",
              "\n",
              "  <div class=\"colab-df-container\">\n",
              "    <button class=\"colab-df-convert\" onclick=\"convertToInteractive('df-6ddd0287-a094-4c2f-b05b-b70be52daaad')\"\n",
              "            title=\"Convert this dataframe to an interactive table.\"\n",
              "            style=\"display:none;\">\n",
              "\n",
              "  <svg xmlns=\"http://www.w3.org/2000/svg\" height=\"24px\" viewBox=\"0 -960 960 960\">\n",
              "    <path d=\"M120-120v-720h720v720H120Zm60-500h600v-160H180v160Zm220 220h160v-160H400v160Zm0 220h160v-160H400v160ZM180-400h160v-160H180v160Zm440 0h160v-160H620v160ZM180-180h160v-160H180v160Zm440 0h160v-160H620v160Z\"/>\n",
              "  </svg>\n",
              "    </button>\n",
              "\n",
              "  <style>\n",
              "    .colab-df-container {\n",
              "      display:flex;\n",
              "      gap: 12px;\n",
              "    }\n",
              "\n",
              "    .colab-df-convert {\n",
              "      background-color: #E8F0FE;\n",
              "      border: none;\n",
              "      border-radius: 50%;\n",
              "      cursor: pointer;\n",
              "      display: none;\n",
              "      fill: #1967D2;\n",
              "      height: 32px;\n",
              "      padding: 0 0 0 0;\n",
              "      width: 32px;\n",
              "    }\n",
              "\n",
              "    .colab-df-convert:hover {\n",
              "      background-color: #E2EBFA;\n",
              "      box-shadow: 0px 1px 2px rgba(60, 64, 67, 0.3), 0px 1px 3px 1px rgba(60, 64, 67, 0.15);\n",
              "      fill: #174EA6;\n",
              "    }\n",
              "\n",
              "    .colab-df-buttons div {\n",
              "      margin-bottom: 4px;\n",
              "    }\n",
              "\n",
              "    [theme=dark] .colab-df-convert {\n",
              "      background-color: #3B4455;\n",
              "      fill: #D2E3FC;\n",
              "    }\n",
              "\n",
              "    [theme=dark] .colab-df-convert:hover {\n",
              "      background-color: #434B5C;\n",
              "      box-shadow: 0px 1px 3px 1px rgba(0, 0, 0, 0.15);\n",
              "      filter: drop-shadow(0px 1px 2px rgba(0, 0, 0, 0.3));\n",
              "      fill: #FFFFFF;\n",
              "    }\n",
              "  </style>\n",
              "\n",
              "    <script>\n",
              "      const buttonEl =\n",
              "        document.querySelector('#df-6ddd0287-a094-4c2f-b05b-b70be52daaad button.colab-df-convert');\n",
              "      buttonEl.style.display =\n",
              "        google.colab.kernel.accessAllowed ? 'block' : 'none';\n",
              "\n",
              "      async function convertToInteractive(key) {\n",
              "        const element = document.querySelector('#df-6ddd0287-a094-4c2f-b05b-b70be52daaad');\n",
              "        const dataTable =\n",
              "          await google.colab.kernel.invokeFunction('convertToInteractive',\n",
              "                                                    [key], {});\n",
              "        if (!dataTable) return;\n",
              "\n",
              "        const docLinkHtml = 'Like what you see? Visit the ' +\n",
              "          '<a target=\"_blank\" href=https://colab.research.google.com/notebooks/data_table.ipynb>data table notebook</a>'\n",
              "          + ' to learn more about interactive tables.';\n",
              "        element.innerHTML = '';\n",
              "        dataTable['output_type'] = 'display_data';\n",
              "        await google.colab.output.renderOutput(dataTable, element);\n",
              "        const docLink = document.createElement('div');\n",
              "        docLink.innerHTML = docLinkHtml;\n",
              "        element.appendChild(docLink);\n",
              "      }\n",
              "    </script>\n",
              "  </div>\n",
              "\n",
              "\n",
              "<div id=\"df-0ac72d1f-e113-42e1-b081-e2ab304c8beb\">\n",
              "  <button class=\"colab-df-quickchart\" onclick=\"quickchart('df-0ac72d1f-e113-42e1-b081-e2ab304c8beb')\"\n",
              "            title=\"Suggest charts\"\n",
              "            style=\"display:none;\">\n",
              "\n",
              "<svg xmlns=\"http://www.w3.org/2000/svg\" height=\"24px\"viewBox=\"0 0 24 24\"\n",
              "     width=\"24px\">\n",
              "    <g>\n",
              "        <path d=\"M19 3H5c-1.1 0-2 .9-2 2v14c0 1.1.9 2 2 2h14c1.1 0 2-.9 2-2V5c0-1.1-.9-2-2-2zM9 17H7v-7h2v7zm4 0h-2V7h2v10zm4 0h-2v-4h2v4z\"/>\n",
              "    </g>\n",
              "</svg>\n",
              "  </button>\n",
              "\n",
              "<style>\n",
              "  .colab-df-quickchart {\n",
              "      --bg-color: #E8F0FE;\n",
              "      --fill-color: #1967D2;\n",
              "      --hover-bg-color: #E2EBFA;\n",
              "      --hover-fill-color: #174EA6;\n",
              "      --disabled-fill-color: #AAA;\n",
              "      --disabled-bg-color: #DDD;\n",
              "  }\n",
              "\n",
              "  [theme=dark] .colab-df-quickchart {\n",
              "      --bg-color: #3B4455;\n",
              "      --fill-color: #D2E3FC;\n",
              "      --hover-bg-color: #434B5C;\n",
              "      --hover-fill-color: #FFFFFF;\n",
              "      --disabled-bg-color: #3B4455;\n",
              "      --disabled-fill-color: #666;\n",
              "  }\n",
              "\n",
              "  .colab-df-quickchart {\n",
              "    background-color: var(--bg-color);\n",
              "    border: none;\n",
              "    border-radius: 50%;\n",
              "    cursor: pointer;\n",
              "    display: none;\n",
              "    fill: var(--fill-color);\n",
              "    height: 32px;\n",
              "    padding: 0;\n",
              "    width: 32px;\n",
              "  }\n",
              "\n",
              "  .colab-df-quickchart:hover {\n",
              "    background-color: var(--hover-bg-color);\n",
              "    box-shadow: 0 1px 2px rgba(60, 64, 67, 0.3), 0 1px 3px 1px rgba(60, 64, 67, 0.15);\n",
              "    fill: var(--button-hover-fill-color);\n",
              "  }\n",
              "\n",
              "  .colab-df-quickchart-complete:disabled,\n",
              "  .colab-df-quickchart-complete:disabled:hover {\n",
              "    background-color: var(--disabled-bg-color);\n",
              "    fill: var(--disabled-fill-color);\n",
              "    box-shadow: none;\n",
              "  }\n",
              "\n",
              "  .colab-df-spinner {\n",
              "    border: 2px solid var(--fill-color);\n",
              "    border-color: transparent;\n",
              "    border-bottom-color: var(--fill-color);\n",
              "    animation:\n",
              "      spin 1s steps(1) infinite;\n",
              "  }\n",
              "\n",
              "  @keyframes spin {\n",
              "    0% {\n",
              "      border-color: transparent;\n",
              "      border-bottom-color: var(--fill-color);\n",
              "      border-left-color: var(--fill-color);\n",
              "    }\n",
              "    20% {\n",
              "      border-color: transparent;\n",
              "      border-left-color: var(--fill-color);\n",
              "      border-top-color: var(--fill-color);\n",
              "    }\n",
              "    30% {\n",
              "      border-color: transparent;\n",
              "      border-left-color: var(--fill-color);\n",
              "      border-top-color: var(--fill-color);\n",
              "      border-right-color: var(--fill-color);\n",
              "    }\n",
              "    40% {\n",
              "      border-color: transparent;\n",
              "      border-right-color: var(--fill-color);\n",
              "      border-top-color: var(--fill-color);\n",
              "    }\n",
              "    60% {\n",
              "      border-color: transparent;\n",
              "      border-right-color: var(--fill-color);\n",
              "    }\n",
              "    80% {\n",
              "      border-color: transparent;\n",
              "      border-right-color: var(--fill-color);\n",
              "      border-bottom-color: var(--fill-color);\n",
              "    }\n",
              "    90% {\n",
              "      border-color: transparent;\n",
              "      border-bottom-color: var(--fill-color);\n",
              "    }\n",
              "  }\n",
              "</style>\n",
              "\n",
              "  <script>\n",
              "    async function quickchart(key) {\n",
              "      const quickchartButtonEl =\n",
              "        document.querySelector('#' + key + ' button');\n",
              "      quickchartButtonEl.disabled = true;  // To prevent multiple clicks.\n",
              "      quickchartButtonEl.classList.add('colab-df-spinner');\n",
              "      try {\n",
              "        const charts = await google.colab.kernel.invokeFunction(\n",
              "            'suggestCharts', [key], {});\n",
              "      } catch (error) {\n",
              "        console.error('Error during call to suggestCharts:', error);\n",
              "      }\n",
              "      quickchartButtonEl.classList.remove('colab-df-spinner');\n",
              "      quickchartButtonEl.classList.add('colab-df-quickchart-complete');\n",
              "    }\n",
              "    (() => {\n",
              "      let quickchartButtonEl =\n",
              "        document.querySelector('#df-0ac72d1f-e113-42e1-b081-e2ab304c8beb button');\n",
              "      quickchartButtonEl.style.display =\n",
              "        google.colab.kernel.accessAllowed ? 'block' : 'none';\n",
              "    })();\n",
              "  </script>\n",
              "</div>\n",
              "\n",
              "    </div>\n",
              "  </div>\n"
            ],
            "application/vnd.google.colaboratory.intrinsic+json": {
              "type": "dataframe",
              "variable_name": "df"
            }
          },
          "metadata": {},
          "execution_count": 5
        }
      ]
    },
    {
      "cell_type": "markdown",
      "source": [
        "## Resonpse Variable - Successful Zone Entry\n",
        "\n",
        "This is our response of interest - what factors associated with a zone entry can be related to a goal?"
      ],
      "metadata": {
        "id": "budyaZeM6RDj"
      }
    },
    {
      "cell_type": "code",
      "source": [
        "# Get numerical summary of zone entry success\n",
        "group_counts = df.groupby('zone_entry_success').size()\n",
        "print(group_counts)"
      ],
      "metadata": {
        "colab": {
          "base_uri": "https://localhost:8080/"
        },
        "id": "dygXp5HY6Wph",
        "outputId": "f66f4f0f-c581-4d15-f80a-7f7b05caac73"
      },
      "execution_count": 6,
      "outputs": [
        {
          "output_type": "stream",
          "name": "stdout",
          "text": [
            "zone_entry_success\n",
            "False    328\n",
            "True     199\n",
            "dtype: int64\n"
          ]
        }
      ]
    },
    {
      "cell_type": "markdown",
      "source": [
        "Takeaway: 130 more zone entries did not result in a goal."
      ],
      "metadata": {
        "id": "A-J-_P3i73dA"
      }
    },
    {
      "cell_type": "code",
      "source": [
        "group_counts = df.groupby(['zone_entry_success', 'Entry_Type']).size()\n",
        "print(group_counts)"
      ],
      "metadata": {
        "colab": {
          "base_uri": "https://localhost:8080/"
        },
        "id": "2zjgU-RM7mUj",
        "outputId": "bd6d3fe9-ca4b-4f1c-c305-8791d04c06ff"
      },
      "execution_count": 7,
      "outputs": [
        {
          "output_type": "stream",
          "name": "stdout",
          "text": [
            "zone_entry_success  Entry_Type\n",
            "False               Carried       122\n",
            "                    Dumped        165\n",
            "                    Played         41\n",
            "True                Carried       136\n",
            "                    Dumped         41\n",
            "                    Played         22\n",
            "dtype: int64\n"
          ]
        }
      ]
    },
    {
      "cell_type": "code",
      "source": [
        "group_counts = df.groupby(['Entry_Type', 'zone_entry_success']).size()\n",
        "print(group_counts)"
      ],
      "metadata": {
        "colab": {
          "base_uri": "https://localhost:8080/"
        },
        "id": "blPg1iq68ecC",
        "outputId": "0a98f578-24cc-4921-8379-1cecee66d03c"
      },
      "execution_count": 8,
      "outputs": [
        {
          "output_type": "stream",
          "name": "stdout",
          "text": [
            "Entry_Type  zone_entry_success\n",
            "Carried     False                 122\n",
            "            True                  136\n",
            "Dumped      False                 165\n",
            "            True                   41\n",
            "Played      False                  41\n",
            "            True                   22\n",
            "dtype: int64\n"
          ]
        }
      ]
    },
    {
      "cell_type": "markdown",
      "source": [
        "Takeaway: Zone entries with type \"carried\" resulted in more goals among successful zone entries, while dumpings often do not result in goals. Zone entries with type \"played\" is infrequent compared to other types."
      ],
      "metadata": {
        "id": "aKgqnI5D7-_x"
      }
    },
    {
      "cell_type": "markdown",
      "source": [
        "## Covariate Variable - Y Coordinate\n",
        "\n",
        "Motivation: Where zone entry happens could be associated with if the zone entry is successful, since teams have different strategy when placing their defencers, and the distance to the goal can vary based on the Y-coordinate."
      ],
      "metadata": {
        "id": "uI8J1c3_wy7I"
      }
    },
    {
      "cell_type": "code",
      "source": [
        "## Find center of y-coordinate of a hockey ground\n",
        "center = 0.5*sum([df['Y Coordinate'].min(), df['Y Coordinate'].max()])\n",
        "center\n",
        "## Convert current y-coordinate (centering)\n",
        "df['Y_coordinate_centered'] = df['Y Coordinate'] - center\n",
        "## Check that conversion works\n",
        "df['Y Coordinate'].head(5), df['Y_coordinate_centered'].head(5)"
      ],
      "metadata": {
        "colab": {
          "base_uri": "https://localhost:8080/"
        },
        "id": "O0f8Rd-cwWxP",
        "outputId": "6da5d5c2-d837-4442-9cd5-2650bebcb383"
      },
      "execution_count": 9,
      "outputs": [
        {
          "output_type": "execute_result",
          "data": {
            "text/plain": [
              "(0     6\n",
              " 1    52\n",
              " 2    80\n",
              " 3    84\n",
              " 4    63\n",
              " Name: Y Coordinate, dtype: int64,\n",
              " 0   -36.5\n",
              " 1     9.5\n",
              " 2    37.5\n",
              " 3    41.5\n",
              " 4    20.5\n",
              " Name: Y_coordinate_centered, dtype: float64)"
            ]
          },
          "metadata": {},
          "execution_count": 9
        }
      ]
    },
    {
      "cell_type": "code",
      "source": [
        "## Plot the distribution of Y coordinates\n",
        "# Create a histogram\n",
        "plt.hist([df.loc[df['Entry_Type'] == category, 'Y_coordinate_centered']\n",
        "          for category in df['Entry_Type'].unique()],\n",
        "         bins=30,\n",
        "         stacked=True,\n",
        "         label=df['Entry_Type'].unique(),\n",
        "         edgecolor='black')\n",
        "\n",
        "# Add titles and labels\n",
        "plt.title('Distribution of Y-Corrdinate of Zone Entry by Entry Type')\n",
        "plt.xlabel('Y_coordinate_centered')\n",
        "plt.ylabel('Frequency')\n",
        "plt.legend()\n",
        "# Show the plot\n",
        "plt.show()"
      ],
      "metadata": {
        "colab": {
          "base_uri": "https://localhost:8080/",
          "height": 472
        },
        "id": "tr32ninwxwzL",
        "outputId": "1568c920-6c83-47ad-b52f-5c6705a409a3"
      },
      "execution_count": 10,
      "outputs": [
        {
          "output_type": "display_data",
          "data": {
            "text/plain": [
              "<Figure size 640x480 with 1 Axes>"
            ],
            "image/png": "[encoded data removed]"
          },
          "metadata": {}
        }
      ]
    },
    {
      "cell_type": "markdown",
      "source": [
        "Takeaway: Zone entries overall took place more frequently at sides, and dumping was more likely to happen at sides."
      ],
      "metadata": {
        "id": "4_PWHl1t4og3"
      }
    },
    {
      "cell_type": "code",
      "source": [
        "## Plot the distribution of Y coordinates\n",
        "# Create a histogram\n",
        "plt.hist([df.loc[df['zone_entry_success'] == category, 'Y_coordinate_centered']\n",
        "          for category in df['zone_entry_success'].unique()],\n",
        "         bins=30,\n",
        "         stacked=True,\n",
        "         label=df['zone_entry_success'].unique(),\n",
        "         edgecolor='black')\n",
        "\n",
        "# Add titles and labels\n",
        "plt.title('Distribution of Y-Corrdinate of Zone Entry by Success')\n",
        "plt.xlabel('Y_coordinate_centered')\n",
        "plt.ylabel('Frequency')\n",
        "plt.legend()\n",
        "# Show the plot\n",
        "plt.show()"
      ],
      "metadata": {
        "colab": {
          "base_uri": "https://localhost:8080/",
          "height": 472
        },
        "id": "r41R-KZA9C5K",
        "outputId": "5d63f8ab-7519-4fdd-da24-456e1e7a0147"
      },
      "execution_count": 11,
      "outputs": [
        {
          "output_type": "display_data",
          "data": {
            "text/plain": [
              "<Figure size 640x480 with 1 Axes>"
            ],
            "image/png": "[encoded data removed]"
          },
          "metadata": {}
        }
      ]
    },
    {
      "cell_type": "markdown",
      "source": [
        "Takeaway: While zone entries took place more frequently at sides, it is difficult to say whether the success rate of zone entry is associated with Y-coordinate."
      ],
      "metadata": {
        "id": "Ib-A-_zO9OKy"
      }
    },
    {
      "cell_type": "markdown",
      "source": [
        "## Covariate Variable - Period\n",
        "\n",
        "Motivation: Period of the game could play a role in the effectiveness of a zone entry through players' emotion, physical abilities and teams' strategies."
      ],
      "metadata": {
        "id": "U2KGZLQY9764"
      }
    },
    {
      "cell_type": "code",
      "source": [
        "group_counts = df.groupby(['Period']).size()\n",
        "print(group_counts)"
      ],
      "metadata": {
        "colab": {
          "base_uri": "https://localhost:8080/"
        },
        "id": "PAtOfk32-wyE",
        "outputId": "4972265c-6f79-44d7-fd45-fb472a4736ff"
      },
      "execution_count": 12,
      "outputs": [
        {
          "output_type": "stream",
          "name": "stdout",
          "text": [
            "Period\n",
            "1    174\n",
            "2    160\n",
            "3    193\n",
            "dtype: int64\n"
          ]
        }
      ]
    },
    {
      "cell_type": "markdown",
      "source": [
        "Takeaway: More zone entries took place in the last period - maybe players are more anxious to play offensive."
      ],
      "metadata": {
        "id": "FVtpKt9b--7J"
      }
    },
    {
      "cell_type": "code",
      "source": [
        "group_counts = df.groupby(['zone_entry_success', 'Period']).size()\n",
        "print(group_counts)"
      ],
      "metadata": {
        "colab": {
          "base_uri": "https://localhost:8080/"
        },
        "id": "NYyKIVRmAW9z",
        "outputId": "be4d5c5c-1238-4e2a-abab-b9b934dcd0f0"
      },
      "execution_count": 13,
      "outputs": [
        {
          "output_type": "stream",
          "name": "stdout",
          "text": [
            "zone_entry_success  Period\n",
            "False               1         105\n",
            "                    2          99\n",
            "                    3         124\n",
            "True                1          69\n",
            "                    2          61\n",
            "                    3          69\n",
            "dtype: int64\n"
          ]
        }
      ]
    },
    {
      "cell_type": "code",
      "source": [
        "group_counts = df.groupby(['Period', 'zone_entry_success']).size()\n",
        "print(group_counts)"
      ],
      "metadata": {
        "colab": {
          "base_uri": "https://localhost:8080/"
        },
        "id": "Mu80QMnHASY5",
        "outputId": "bf4c7ada-84b6-4920-c770-b51d129c3141"
      },
      "execution_count": 14,
      "outputs": [
        {
          "output_type": "stream",
          "name": "stdout",
          "text": [
            "Period  zone_entry_success\n",
            "1       False                 105\n",
            "        True                   69\n",
            "2       False                  99\n",
            "        True                   61\n",
            "3       False                 124\n",
            "        True                   69\n",
            "dtype: int64\n"
          ]
        }
      ]
    },
    {
      "cell_type": "markdown",
      "source": [
        "Takeaway: More zone entries made in period 3, but the overall success numbers of entries across all periods are very close. Therefore, we can say that players may play more offensive in period 3, but the denfensive team also reacts to those offenses actively, bringing the success rate of zone entry in period 3 down."
      ],
      "metadata": {
        "id": "tQQO6yqOAUCJ"
      }
    },
    {
      "cell_type": "code",
      "source": [
        "group_counts = df.groupby(['Period', 'Entry_Type']).size()\n",
        "print(group_counts)"
      ],
      "metadata": {
        "colab": {
          "base_uri": "https://localhost:8080/"
        },
        "id": "4EgWZZMr_6Xl",
        "outputId": "7963baec-5eae-4050-ecd0-86269d997da1"
      },
      "execution_count": 15,
      "outputs": [
        {
          "output_type": "stream",
          "name": "stdout",
          "text": [
            "Period  Entry_Type\n",
            "1       Carried       88\n",
            "        Dumped        70\n",
            "        Played        16\n",
            "2       Carried       76\n",
            "        Dumped        63\n",
            "        Played        21\n",
            "3       Carried       94\n",
            "        Dumped        73\n",
            "        Played        26\n",
            "dtype: int64\n"
          ]
        }
      ]
    },
    {
      "cell_type": "code",
      "source": [
        "group_counts = df.groupby(['Entry_Type', 'Period']).size()\n",
        "print(group_counts)"
      ],
      "metadata": {
        "colab": {
          "base_uri": "https://localhost:8080/"
        },
        "id": "i8BxOgSL_sWc",
        "outputId": "a10a28e6-708c-4281-f6ec-22dd019eb832"
      },
      "execution_count": 16,
      "outputs": [
        {
          "output_type": "stream",
          "name": "stdout",
          "text": [
            "Entry_Type  Period\n",
            "Carried     1         88\n",
            "            2         76\n",
            "            3         94\n",
            "Dumped      1         70\n",
            "            2         63\n",
            "            3         73\n",
            "Played      1         16\n",
            "            2         21\n",
            "            3         26\n",
            "dtype: int64\n"
          ]
        }
      ]
    },
    {
      "cell_type": "markdown",
      "source": [
        "Takeaway: Zone entry type of carried is more frequent across all entry types; besides that, not much of variation of zone entries types across periods."
      ],
      "metadata": {
        "id": "qtgNjp7n_zGR"
      }
    },
    {
      "cell_type": "markdown",
      "source": [
        "## Frequentist GLMM (Having some issues with code)"
      ],
      "metadata": {
        "id": "748_l48ZBbPI"
      }
    },
    {
      "cell_type": "code",
      "source": [
        "df.head(1)"
      ],
      "metadata": {
        "colab": {
          "base_uri": "https://localhost:8080/",
          "height": 188
        },
        "id": "x9u1oqJjCjim",
        "outputId": "a5cb2705-1df2-4170-9dbf-b0dac4cc1abd"
      },
      "execution_count": 16,
      "outputs": [
        {
          "output_type": "execute_result",
          "data": {
            "text/plain": [
              "         Date              Home Team       Away Team  Period  Clock  \\\n",
              "0  2023-11-08  Women - United States  Women - Canada       1  19:36   \n",
              "\n",
              "   Home Team Skaters  Away Team Skaters  Home Team Goals  Away Team Goals  \\\n",
              "0                  5                  5                0                0   \n",
              "\n",
              "             Team           Player       Event  X Coordinate  Y Coordinate  \\\n",
              "0  Women - Canada  Blayre Turnbull  Zone Entry           125             6   \n",
              "\n",
              "  Detail 1  Detail 2  Detail 3  Detail 4    Player 2  X Coordinate 2  \\\n",
              "0  Carried       NaN       NaN       NaN  Haley Winn             NaN   \n",
              "\n",
              "   Y Coordinate 2  isin_ozone_for_home_team  isin_ozone_for_away_team  \\\n",
              "0             NaN                     False                      True   \n",
              "\n",
              "   zone_entry_success Position  is_forward Entry_Type        Game  Dumped  \\\n",
              "0               False        F        True    Carried  2023-11-08       0   \n",
              "\n",
              "   Played  Y_coordinate_centered  \n",
              "0       0                  -36.5  "
            ],
            "text/html": [
              "\n",
              "  <div id=\"df-7d1a843d-873a-4e2b-bea9-b996e6718991\" class=\"colab-df-container\">\n",
              "    <div>\n",
              "<style scoped>\n",
              "    .dataframe tbody tr th:only-of-type {\n",
              "        vertical-align: middle;\n",
              "    }\n",
              "\n",
              "    .dataframe tbody tr th {\n",
              "        vertical-align: top;\n",
              "    }\n",
              "\n",
              "    .dataframe thead th {\n",
              "        text-align: right;\n",
              "    }\n",
              "</style>\n",
              "<table border=\"1\" class=\"dataframe\">\n",
              "  <thead>\n",
              "    <tr style=\"text-align: right;\">\n",
              "      <th></th>\n",
              "      <th>Date</th>\n",
              "      <th>Home Team</th>\n",
              "      <th>Away Team</th>\n",
              "      <th>Period</th>\n",
              "      <th>Clock</th>\n",
              "      <th>Home Team Skaters</th>\n",
              "      <th>Away Team Skaters</th>\n",
              "      <th>Home Team Goals</th>\n",
              "      <th>Away Team Goals</th>\n",
              "      <th>Team</th>\n",
              "      <th>Player</th>\n",
              "      <th>Event</th>\n",
              "      <th>X Coordinate</th>\n",
              "      <th>Y Coordinate</th>\n",
              "      <th>Detail 1</th>\n",
              "      <th>Detail 2</th>\n",
              "      <th>Detail 3</th>\n",
              "      <th>Detail 4</th>\n",
              "      <th>Player 2</th>\n",
              "      <th>X Coordinate 2</th>\n",
              "      <th>Y Coordinate 2</th>\n",
              "      <th>isin_ozone_for_home_team</th>\n",
              "      <th>isin_ozone_for_away_team</th>\n",
              "      <th>zone_entry_success</th>\n",
              "      <th>Position</th>\n",
              "      <th>is_forward</th>\n",
              "      <th>Entry_Type</th>\n",
              "      <th>Game</th>\n",
              "      <th>Dumped</th>\n",
              "      <th>Played</th>\n",
              "      <th>Y_coordinate_centered</th>\n",
              "    </tr>\n",
              "  </thead>\n",
              "  <tbody>\n",
              "    <tr>\n",
              "      <th>0</th>\n",
              "      <td>2023-11-08</td>\n",
              "      <td>Women - United States</td>\n",
              "      <td>Women - Canada</td>\n",
              "      <td>1</td>\n",
              "      <td>19:36</td>\n",
              "      <td>5</td>\n",
              "      <td>5</td>\n",
              "      <td>0</td>\n",
              "      <td>0</td>\n",
              "      <td>Women - Canada</td>\n",
              "      <td>Blayre Turnbull</td>\n",
              "      <td>Zone Entry</td>\n",
              "      <td>125</td>\n",
              "      <td>6</td>\n",
              "      <td>Carried</td>\n",
              "      <td>NaN</td>\n",
              "      <td>NaN</td>\n",
              "      <td>NaN</td>\n",
              "      <td>Haley Winn</td>\n",
              "      <td>NaN</td>\n",
              "      <td>NaN</td>\n",
              "      <td>False</td>\n",
              "      <td>True</td>\n",
              "      <td>False</td>\n",
              "      <td>F</td>\n",
              "      <td>True</td>\n",
              "      <td>Carried</td>\n",
              "      <td>2023-11-08</td>\n",
              "      <td>0</td>\n",
              "      <td>0</td>\n",
              "      <td>-36.5</td>\n",
              "    </tr>\n",
              "  </tbody>\n",
              "</table>\n",
              "</div>\n",
              "    <div class=\"colab-df-buttons\">\n",
              "\n",
              "  <div class=\"colab-df-container\">\n",
              "    <button class=\"colab-df-convert\" onclick=\"convertToInteractive('df-7d1a843d-873a-4e2b-bea9-b996e6718991')\"\n",
              "            title=\"Convert this dataframe to an interactive table.\"\n",
              "            style=\"display:none;\">\n",
              "\n",
              "  <svg xmlns=\"http://www.w3.org/2000/svg\" height=\"24px\" viewBox=\"0 -960 960 960\">\n",
              "    <path d=\"M120-120v-720h720v720H120Zm60-500h600v-160H180v160Zm220 220h160v-160H400v160Zm0 220h160v-160H400v160ZM180-400h160v-160H180v160Zm440 0h160v-160H620v160ZM180-180h160v-160H180v160Zm440 0h160v-160H620v160Z\"/>\n",
              "  </svg>\n",
              "    </button>\n",
              "\n",
              "  <style>\n",
              "    .colab-df-container {\n",
              "      display:flex;\n",
              "      gap: 12px;\n",
              "    }\n",
              "\n",
              "    .colab-df-convert {\n",
              "      background-color: #E8F0FE;\n",
              "      border: none;\n",
              "      border-radius: 50%;\n",
              "      cursor: pointer;\n",
              "      display: none;\n",
              "      fill: #1967D2;\n",
              "      height: 32px;\n",
              "      padding: 0 0 0 0;\n",
              "      width: 32px;\n",
              "    }\n",
              "\n",
              "    .colab-df-convert:hover {\n",
              "      background-color: #E2EBFA;\n",
              "      box-shadow: 0px 1px 2px rgba(60, 64, 67, 0.3), 0px 1px 3px 1px rgba(60, 64, 67, 0.15);\n",
              "      fill: #174EA6;\n",
              "    }\n",
              "\n",
              "    .colab-df-buttons div {\n",
              "      margin-bottom: 4px;\n",
              "    }\n",
              "\n",
              "    [theme=dark] .colab-df-convert {\n",
              "      background-color: #3B4455;\n",
              "      fill: #D2E3FC;\n",
              "    }\n",
              "\n",
              "    [theme=dark] .colab-df-convert:hover {\n",
              "      background-color: #434B5C;\n",
              "      box-shadow: 0px 1px 3px 1px rgba(0, 0, 0, 0.15);\n",
              "      filter: drop-shadow(0px 1px 2px rgba(0, 0, 0, 0.3));\n",
              "      fill: #FFFFFF;\n",
              "    }\n",
              "  </style>\n",
              "\n",
              "    <script>\n",
              "      const buttonEl =\n",
              "        document.querySelector('#df-7d1a843d-873a-4e2b-bea9-b996e6718991 button.colab-df-convert');\n",
              "      buttonEl.style.display =\n",
              "        google.colab.kernel.accessAllowed ? 'block' : 'none';\n",
              "\n",
              "      async function convertToInteractive(key) {\n",
              "        const element = document.querySelector('#df-7d1a843d-873a-4e2b-bea9-b996e6718991');\n",
              "        const dataTable =\n",
              "          await google.colab.kernel.invokeFunction('convertToInteractive',\n",
              "                                                    [key], {});\n",
              "        if (!dataTable) return;\n",
              "\n",
              "        const docLinkHtml = 'Like what you see? Visit the ' +\n",
              "          '<a target=\"_blank\" href=https://colab.research.google.com/notebooks/data_table.ipynb>data table notebook</a>'\n",
              "          + ' to learn more about interactive tables.';\n",
              "        element.innerHTML = '';\n",
              "        dataTable['output_type'] = 'display_data';\n",
              "        await google.colab.output.renderOutput(dataTable, element);\n",
              "        const docLink = document.createElement('div');\n",
              "        docLink.innerHTML = docLinkHtml;\n",
              "        element.appendChild(docLink);\n",
              "      }\n",
              "    </script>\n",
              "  </div>\n",
              "\n",
              "\n",
              "    </div>\n",
              "  </div>\n"
            ],
            "application/vnd.google.colaboratory.intrinsic+json": {
              "type": "dataframe",
              "variable_name": "df"
            }
          },
          "metadata": {},
          "execution_count": 16
        }
      ]
    },
    {
      "cell_type": "code",
      "source": [
        "df[\"Game\"].unique()"
      ],
      "metadata": {
        "colab": {
          "base_uri": "https://localhost:8080/"
        },
        "id": "-N9XJd0-C36h",
        "outputId": "a96e37c8-c435-4210-f7b7-0585c52c2eda"
      },
      "execution_count": 84,
      "outputs": [
        {
          "output_type": "execute_result",
          "data": {
            "text/plain": [
              "array(['2023-11-08', '2023-11-11', '2023-12-14', '2023-12-16'],\n",
              "      dtype=object)"
            ]
          },
          "metadata": {},
          "execution_count": 84
        }
      ]
    },
    {
      "cell_type": "code",
      "source": [
        "df2 = df[[\"Period\", \"Clock\", \"Team\", \"Player\", \"Game\", \"Y_coordinate_centered\", \"Entry_Type\", \"zone_entry_success\"]]"
      ],
      "metadata": {
        "id": "VGX-ZXwaHhky"
      },
      "execution_count": 37,
      "outputs": []
    },
    {
      "cell_type": "code",
      "source": [
        "glmm1 = Lmer('zone_entry_success ~ Period + Team + Entry_Type + Y_coordinate_centered + (1|Player)', data=df, family='binomial')\n",
        "result_glmm1 = glmm1.fit()\n",
        "\n",
        "# Displaying the results\n",
        "print(result_glmm1.summary())"
      ],
      "metadata": {
        "colab": {
          "base_uri": "https://localhost:8080/",
          "height": 365
        },
        "id": "9ZYHPLB1Bafu",
        "outputId": "97d11235-36d1-42e8-d529-8266f1e474e2"
      },
      "execution_count": 17,
      "outputs": [
        {
          "output_type": "error",
          "ename": "AttributeError",
          "evalue": "module 'rpy2.robjects.conversion' has no attribute 'get_conversion'",
          "traceback": [
            "\u001b[0;31m---------------------------------------------------------------------------\u001b[0m",
            "\u001b[0;31mAttributeError\u001b[0m                            Traceback (most recent call last)",
            "\u001b[0;32m<ipython-input-17-41e155cf446c>\u001b[0m in \u001b[0;36m<cell line: 2>\u001b[0;34m()\u001b[0m\n\u001b[1;32m      1\u001b[0m \u001b[0mglmm1\u001b[0m \u001b[0;34m=\u001b[0m \u001b[0mLmer\u001b[0m\u001b[0;34m(\u001b[0m\u001b[0;34m'zone_entry_success ~ Period + Team + Entry_Type + Y_coordinate_centered + (1|Player)'\u001b[0m\u001b[0;34m,\u001b[0m \u001b[0mdata\u001b[0m\u001b[0;34m=\u001b[0m\u001b[0mdf\u001b[0m\u001b[0;34m,\u001b[0m \u001b[0mfamily\u001b[0m\u001b[0;34m=\u001b[0m\u001b[0;34m'binomial'\u001b[0m\u001b[0;34m)\u001b[0m\u001b[0;34m\u001b[0m\u001b[0;34m\u001b[0m\u001b[0m\n\u001b[0;32m----> 2\u001b[0;31m \u001b[0mresult_glmm1\u001b[0m \u001b[0;34m=\u001b[0m \u001b[0mglmm1\u001b[0m\u001b[0;34m.\u001b[0m\u001b[0mfit\u001b[0m\u001b[0;34m(\u001b[0m\u001b[0;34m)\u001b[0m\u001b[0;34m\u001b[0m\u001b[0;34m\u001b[0m\u001b[0m\n\u001b[0m\u001b[1;32m      3\u001b[0m \u001b[0;34m\u001b[0m\u001b[0m\n\u001b[1;32m      4\u001b[0m \u001b[0;31m# Displaying the results\u001b[0m\u001b[0;34m\u001b[0m\u001b[0;34m\u001b[0m\u001b[0m\n\u001b[1;32m      5\u001b[0m \u001b[0mprint\u001b[0m\u001b[0;34m(\u001b[0m\u001b[0mresult_glmm1\u001b[0m\u001b[0;34m.\u001b[0m\u001b[0msummary\u001b[0m\u001b[0;34m(\u001b[0m\u001b[0;34m)\u001b[0m\u001b[0;34m)\u001b[0m\u001b[0;34m\u001b[0m\u001b[0;34m\u001b[0m\u001b[0m\n",
            "\u001b[0;32m/usr/local/lib/python3.10/dist-packages/pymer4/models/Lmer.py\u001b[0m in \u001b[0;36mfit\u001b[0;34m(self, conf_int, n_boot, factors, permute, ordered, verbose, REML, rank, rank_group, rank_exclude_cols, no_warnings, control, old_optimizer, **kwargs)\u001b[0m\n\u001b[1;32m    411\u001b[0m                 \u001b[0mself\u001b[0m\u001b[0;34m.\u001b[0m\u001b[0msig_type\u001b[0m \u001b[0;34m=\u001b[0m \u001b[0;34m\"parametric\"\u001b[0m\u001b[0;34m\u001b[0m\u001b[0;34m\u001b[0m\u001b[0m\n\u001b[1;32m    412\u001b[0m \u001b[0;34m\u001b[0m\u001b[0m\n\u001b[0;32m--> 413\u001b[0;31m         \u001b[0mdata\u001b[0m \u001b[0;34m=\u001b[0m \u001b[0mpandas2R\u001b[0m\u001b[0;34m(\u001b[0m\u001b[0mdat\u001b[0m\u001b[0;34m)\u001b[0m\u001b[0;34m\u001b[0m\u001b[0;34m\u001b[0m\u001b[0m\n\u001b[0m\u001b[1;32m    414\u001b[0m \u001b[0;34m\u001b[0m\u001b[0m\n\u001b[1;32m    415\u001b[0m         \u001b[0;32mif\u001b[0m \u001b[0mself\u001b[0m\u001b[0;34m.\u001b[0m\u001b[0mfamily\u001b[0m \u001b[0;34m==\u001b[0m \u001b[0;34m\"gaussian\"\u001b[0m\u001b[0;34m:\u001b[0m\u001b[0;34m\u001b[0m\u001b[0;34m\u001b[0m\u001b[0m\n",
            "\u001b[0;32m/usr/local/lib/python3.10/dist-packages/pymer4/bridge.py\u001b[0m in \u001b[0;36mpandas2R\u001b[0;34m(df)\u001b[0m\n\u001b[1;32m     11\u001b[0m     \u001b[0;34m\"\"\"Local conversion of pandas dataframe to R dataframe as recommended by rpy2\"\"\"\u001b[0m\u001b[0;34m\u001b[0m\u001b[0;34m\u001b[0m\u001b[0m\n\u001b[1;32m     12\u001b[0m     \u001b[0;32mwith\u001b[0m \u001b[0mlocalconverter\u001b[0m\u001b[0;34m(\u001b[0m\u001b[0mrobjects\u001b[0m\u001b[0;34m.\u001b[0m\u001b[0mdefault_converter\u001b[0m \u001b[0;34m+\u001b[0m \u001b[0mpandas2ri\u001b[0m\u001b[0;34m.\u001b[0m\u001b[0mconverter\u001b[0m\u001b[0;34m)\u001b[0m\u001b[0;34m:\u001b[0m\u001b[0;34m\u001b[0m\u001b[0;34m\u001b[0m\u001b[0m\n\u001b[0;32m---> 13\u001b[0;31m         \u001b[0mdata\u001b[0m \u001b[0;34m=\u001b[0m \u001b[0mrobjects\u001b[0m\u001b[0;34m.\u001b[0m\u001b[0mconversion\u001b[0m\u001b[0;34m.\u001b[0m\u001b[0mget_conversion\u001b[0m\u001b[0;34m(\u001b[0m\u001b[0;34m)\u001b[0m\u001b[0;34m.\u001b[0m\u001b[0mpy2rpy\u001b[0m\u001b[0;34m(\u001b[0m\u001b[0mdf\u001b[0m\u001b[0;34m)\u001b[0m\u001b[0;34m\u001b[0m\u001b[0;34m\u001b[0m\u001b[0m\n\u001b[0m\u001b[1;32m     14\u001b[0m     \u001b[0;32mreturn\u001b[0m \u001b[0mdata\u001b[0m\u001b[0;34m\u001b[0m\u001b[0;34m\u001b[0m\u001b[0m\n\u001b[1;32m     15\u001b[0m \u001b[0;34m\u001b[0m\u001b[0m\n",
            "\u001b[0;31mAttributeError\u001b[0m: module 'rpy2.robjects.conversion' has no attribute 'get_conversion'"
          ]
        }
      ]
    },
    {
      "cell_type": "code",
      "source": [
        "from rpy2.robjects import conversion, default_converter\n",
        "with conversion.localconverter(default_converter):\n",
        "  glmm1 = Lmer('zone_entry_success ~ Period + Team + Entry_Type + Y_coordinate_centered + (1|Player)', data=df, family='binomial')\n",
        "  result_glmm1 = glmm1.fit()\n",
        "\n",
        "# Displaying the results\n",
        "print(result_glmm1.summary())"
      ],
      "metadata": {
        "colab": {
          "base_uri": "https://localhost:8080/",
          "height": 365
        },
        "id": "W4MLhbYCIiok",
        "outputId": "d5595d88-630b-4292-d152-57c160fe932e"
      },
      "execution_count": 19,
      "outputs": [
        {
          "output_type": "error",
          "ename": "AttributeError",
          "evalue": "module 'rpy2.robjects.conversion' has no attribute 'get_conversion'",
          "traceback": [
            "\u001b[0;31m---------------------------------------------------------------------------\u001b[0m",
            "\u001b[0;31mAttributeError\u001b[0m                            Traceback (most recent call last)",
            "\u001b[0;32m<ipython-input-19-b8e8e5ea8d07>\u001b[0m in \u001b[0;36m<cell line: 2>\u001b[0;34m()\u001b[0m\n\u001b[1;32m      2\u001b[0m \u001b[0;32mwith\u001b[0m \u001b[0mconversion\u001b[0m\u001b[0;34m.\u001b[0m\u001b[0mlocalconverter\u001b[0m\u001b[0;34m(\u001b[0m\u001b[0mdefault_converter\u001b[0m\u001b[0;34m)\u001b[0m\u001b[0;34m:\u001b[0m\u001b[0;34m\u001b[0m\u001b[0;34m\u001b[0m\u001b[0m\n\u001b[1;32m      3\u001b[0m   \u001b[0mglmm1\u001b[0m \u001b[0;34m=\u001b[0m \u001b[0mLmer\u001b[0m\u001b[0;34m(\u001b[0m\u001b[0;34m'zone_entry_success ~ Period + Team + Entry_Type + Y_coordinate_centered + (1|Player)'\u001b[0m\u001b[0;34m,\u001b[0m \u001b[0mdata\u001b[0m\u001b[0;34m=\u001b[0m\u001b[0mdf\u001b[0m\u001b[0;34m,\u001b[0m \u001b[0mfamily\u001b[0m\u001b[0;34m=\u001b[0m\u001b[0;34m'binomial'\u001b[0m\u001b[0;34m)\u001b[0m\u001b[0;34m\u001b[0m\u001b[0;34m\u001b[0m\u001b[0m\n\u001b[0;32m----> 4\u001b[0;31m   \u001b[0mresult_glmm1\u001b[0m \u001b[0;34m=\u001b[0m \u001b[0mglmm1\u001b[0m\u001b[0;34m.\u001b[0m\u001b[0mfit\u001b[0m\u001b[0;34m(\u001b[0m\u001b[0;34m)\u001b[0m\u001b[0;34m\u001b[0m\u001b[0;34m\u001b[0m\u001b[0m\n\u001b[0m\u001b[1;32m      5\u001b[0m \u001b[0;34m\u001b[0m\u001b[0m\n\u001b[1;32m      6\u001b[0m \u001b[0;31m# Displaying the results\u001b[0m\u001b[0;34m\u001b[0m\u001b[0;34m\u001b[0m\u001b[0m\n",
            "\u001b[0;32m/usr/local/lib/python3.10/dist-packages/pymer4/models/Lmer.py\u001b[0m in \u001b[0;36mfit\u001b[0;34m(self, conf_int, n_boot, factors, permute, ordered, verbose, REML, rank, rank_group, rank_exclude_cols, no_warnings, control, old_optimizer, **kwargs)\u001b[0m\n\u001b[1;32m    411\u001b[0m                 \u001b[0mself\u001b[0m\u001b[0;34m.\u001b[0m\u001b[0msig_type\u001b[0m \u001b[0;34m=\u001b[0m \u001b[0;34m\"parametric\"\u001b[0m\u001b[0;34m\u001b[0m\u001b[0;34m\u001b[0m\u001b[0m\n\u001b[1;32m    412\u001b[0m \u001b[0;34m\u001b[0m\u001b[0m\n\u001b[0;32m--> 413\u001b[0;31m         \u001b[0mdata\u001b[0m \u001b[0;34m=\u001b[0m \u001b[0mpandas2R\u001b[0m\u001b[0;34m(\u001b[0m\u001b[0mdat\u001b[0m\u001b[0;34m)\u001b[0m\u001b[0;34m\u001b[0m\u001b[0;34m\u001b[0m\u001b[0m\n\u001b[0m\u001b[1;32m    414\u001b[0m \u001b[0;34m\u001b[0m\u001b[0m\n\u001b[1;32m    415\u001b[0m         \u001b[0;32mif\u001b[0m \u001b[0mself\u001b[0m\u001b[0;34m.\u001b[0m\u001b[0mfamily\u001b[0m \u001b[0;34m==\u001b[0m \u001b[0;34m\"gaussian\"\u001b[0m\u001b[0;34m:\u001b[0m\u001b[0;34m\u001b[0m\u001b[0;34m\u001b[0m\u001b[0m\n",
            "\u001b[0;32m/usr/local/lib/python3.10/dist-packages/pymer4/bridge.py\u001b[0m in \u001b[0;36mpandas2R\u001b[0;34m(df)\u001b[0m\n\u001b[1;32m     11\u001b[0m     \u001b[0;34m\"\"\"Local conversion of pandas dataframe to R dataframe as recommended by rpy2\"\"\"\u001b[0m\u001b[0;34m\u001b[0m\u001b[0;34m\u001b[0m\u001b[0m\n\u001b[1;32m     12\u001b[0m     \u001b[0;32mwith\u001b[0m \u001b[0mlocalconverter\u001b[0m\u001b[0;34m(\u001b[0m\u001b[0mrobjects\u001b[0m\u001b[0;34m.\u001b[0m\u001b[0mdefault_converter\u001b[0m \u001b[0;34m+\u001b[0m \u001b[0mpandas2ri\u001b[0m\u001b[0;34m.\u001b[0m\u001b[0mconverter\u001b[0m\u001b[0;34m)\u001b[0m\u001b[0;34m:\u001b[0m\u001b[0;34m\u001b[0m\u001b[0;34m\u001b[0m\u001b[0m\n\u001b[0;32m---> 13\u001b[0;31m         \u001b[0mdata\u001b[0m \u001b[0;34m=\u001b[0m \u001b[0mrobjects\u001b[0m\u001b[0;34m.\u001b[0m\u001b[0mconversion\u001b[0m\u001b[0;34m.\u001b[0m\u001b[0mget_conversion\u001b[0m\u001b[0;34m(\u001b[0m\u001b[0;34m)\u001b[0m\u001b[0;34m.\u001b[0m\u001b[0mpy2rpy\u001b[0m\u001b[0;34m(\u001b[0m\u001b[0mdf\u001b[0m\u001b[0;34m)\u001b[0m\u001b[0;34m\u001b[0m\u001b[0;34m\u001b[0m\u001b[0m\n\u001b[0m\u001b[1;32m     14\u001b[0m     \u001b[0;32mreturn\u001b[0m \u001b[0mdata\u001b[0m\u001b[0;34m\u001b[0m\u001b[0;34m\u001b[0m\u001b[0m\n\u001b[1;32m     15\u001b[0m \u001b[0;34m\u001b[0m\u001b[0m\n",
            "\u001b[0;31mAttributeError\u001b[0m: module 'rpy2.robjects.conversion' has no attribute 'get_conversion'"
          ]
        }
      ]
    },
    {
      "cell_type": "code",
      "source": [
        "#pip install rpy2==3.5.1"
      ],
      "metadata": {
        "colab": {
          "base_uri": "https://localhost:8080/",
          "height": 546
        },
        "id": "R_YBJhS8G95d",
        "outputId": "20b62caf-b9f9-4ab9-a4bc-c78d235fb6f1"
      },
      "execution_count": 42,
      "outputs": [
        {
          "output_type": "stream",
          "name": "stdout",
          "text": [
            "Collecting rpy2==3.5.1\n",
            "  Downloading rpy2-3.5.1.tar.gz (201 kB)\n",
            "\u001b[2K     \u001b[90m━━━━━━━━━━━━━━━━━━━━━━━━━━━━━━━━━━━━━━━━\u001b[0m \u001b[32m201.7/201.7 kB\u001b[0m \u001b[31m1.8 MB/s\u001b[0m eta \u001b[36m0:00:00\u001b[0m\n",
            "\u001b[?25h  Preparing metadata (setup.py) ... \u001b[?25l\u001b[?25hdone\n",
            "Requirement already satisfied: cffi>=1.10.0 in /usr/local/lib/python3.10/dist-packages (from rpy2==3.5.1) (1.16.0)\n",
            "Requirement already satisfied: jinja2 in /usr/local/lib/python3.10/dist-packages (from rpy2==3.5.1) (3.1.3)\n",
            "Requirement already satisfied: pytz in /usr/local/lib/python3.10/dist-packages (from rpy2==3.5.1) (2023.4)\n",
            "Requirement already satisfied: tzlocal in /usr/local/lib/python3.10/dist-packages (from rpy2==3.5.1) (5.2)\n",
            "Requirement already satisfied: pycparser in /usr/local/lib/python3.10/dist-packages (from cffi>=1.10.0->rpy2==3.5.1) (2.21)\n",
            "Requirement already satisfied: MarkupSafe>=2.0 in /usr/local/lib/python3.10/dist-packages (from jinja2->rpy2==3.5.1) (2.1.5)\n",
            "Building wheels for collected packages: rpy2\n",
            "  Building wheel for rpy2 (setup.py) ... \u001b[?25l\u001b[?25hdone\n",
            "  Created wheel for rpy2: filename=rpy2-3.5.1-cp310-cp310-linux_x86_64.whl size=314932 sha256=5fd1bd4f59b652fb8d1d26df143fad44008f15b252b6ab294fa7e9794b8a75e3\n",
            "  Stored in directory: /root/.cache/pip/wheels/73/a6/ff/4e75dd1ce1cfa2b9a670cbccf6a1e41c553199e9b25f05d953\n",
            "Successfully built rpy2\n",
            "Installing collected packages: rpy2\n",
            "  Attempting uninstall: rpy2\n",
            "    Found existing installation: rpy2 3.5.15\n",
            "    Uninstalling rpy2-3.5.15:\n",
            "      Successfully uninstalled rpy2-3.5.15\n",
            "\u001b[31mERROR: pip's dependency resolver does not currently take into account all the packages that are installed. This behaviour is the source of the following dependency conflicts.\n",
            "pymer4 0.8.1 requires rpy2>=3.5.3, but you have rpy2 3.5.1 which is incompatible.\u001b[0m\u001b[31m\n",
            "\u001b[0mSuccessfully installed rpy2-3.5.1\n"
          ]
        },
        {
          "output_type": "display_data",
          "data": {
            "application/vnd.colab-display-data+json": {
              "pip_warning": {
                "packages": [
                  "_rinterface_cffi_api",
                  "rpy2"
                ]
              },
              "id": "dd7e30165ca04f349bb586997d516145"
            }
          },
          "metadata": {}
        }
      ]
    }
  ]
}